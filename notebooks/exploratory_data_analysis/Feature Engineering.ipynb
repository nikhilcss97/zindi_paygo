{
 "cells": [
  {
   "cell_type": "code",
   "execution_count": 1,
   "id": "50797cad",
   "metadata": {},
   "outputs": [],
   "source": [
    "# !pip install pandas numpy\n",
    "import pandas as pd\n",
    "import numpy as np"
   ]
  },
  {
   "cell_type": "code",
   "execution_count": 2,
   "id": "567114ad",
   "metadata": {},
   "outputs": [],
   "source": [
    "import pandas as pd\n",
    "import numpy as np\n",
    "\n",
    "# !pip install sklearn\n",
    "import xgboost as xgb\n",
    "from sklearn import metrics\n",
    "from sklearn.model_selection import train_test_split\n",
    "from sklearn.preprocessing import OneHotEncoder"
   ]
  },
  {
   "cell_type": "code",
   "execution_count": 3,
   "id": "36ba6865",
   "metadata": {
    "scrolled": true
   },
   "outputs": [
    {
     "name": "stderr",
     "output_type": "stream",
     "text": [
      "/home/nikhil/.local/share/virtualenvs/zindi_paygo-MEN1gcQP/lib/python3.9/site-packages/IPython/core/interactiveshell.py:3169: DtypeWarning: Columns (3) have mixed types.Specify dtype option on import or set low_memory=False.\n",
      "  has_raised = await self.run_ast_nodes(code_ast.body, cell_name,\n"
     ]
    }
   ],
   "source": [
    "train = pd.read_csv(\"../../data/Train.csv\", sep=\",\")\n",
    "metadata = pd.read_csv(\"../../data/metadata.csv\", sep=\",\")\n",
    "test = pd.read_csv(\"../../data/Test.csv\", sep=\",\")"
   ]
  },
  {
   "cell_type": "code",
   "execution_count": 4,
   "id": "b3f2cf89",
   "metadata": {},
   "outputs": [],
   "source": [
    "train_merged = metadata.merge(train[['ID', 'TransactionDates', 'PaymentsHistory',\n",
    "                      'm1', 'm2', 'm3', 'm4', 'm5', 'm6']], how=\"right\", on=\"ID\")"
   ]
  },
  {
   "cell_type": "markdown",
   "id": "6faa920f",
   "metadata": {},
   "source": [
    "### Payment Related features"
   ]
  },
  {
   "cell_type": "code",
   "execution_count": 5,
   "id": "d3befcda",
   "metadata": {},
   "outputs": [],
   "source": [
    "from utils import split, length_calc, sum_calc, mean_calc, median_calc, max_calc, min_calc, std_dev_calc, back_feature\n",
    "def feature_construction(df):\n",
    "    try:\n",
    "        df[\"SplitPaymentsHistory\"] = df.apply(lambda row: split(row[\"PaymentsHistory\"]), axis=1)\n",
    "        df[\"SplitTransactionDates\"] = df.apply(lambda row: split(row[\"TransactionDates\"]), axis=1)\n",
    "        df[\"nb_payments\"] = df.apply(lambda row: length_calc(row[\"SplitPaymentsHistory\"]), axis=1)\n",
    "        df[\"amount_paid\"] = df.apply(lambda row: sum_calc(row[\"SplitPaymentsHistory\"]), axis=1)\n",
    "        df[\"percent_amt_paid\"] = df[\"amount_paid\"] / train_merged[\"TotalContractValue\"]\n",
    "        df[\"mean_amt_paid\"] = df.apply(lambda row: mean_calc(row[\"SplitPaymentsHistory\"]), axis=1)\n",
    "        df[\"median_amt_paid\"] = df.apply(lambda row: median_calc(row[\"SplitPaymentsHistory\"]), axis=1)\n",
    "        df[\"max_amt_paid\"] = df.apply(lambda row: max_calc(row[\"SplitPaymentsHistory\"]), axis=1)\n",
    "        df[\"min_amt_paid\"] = df.apply(lambda row: min_calc(row[\"SplitPaymentsHistory\"]), axis=1)\n",
    "        df[\"stddev_amt_paid\"] = df.apply(lambda row: std_dev_calc(row[\"SplitPaymentsHistory\"]), axis=1)\n",
    "    except KeyError as e:\n",
    "        raise Exception(\"Column Missing\")\n",
    "        \n",
    "    return df\n",
    "\n",
    "train_merged = feature_construction(train_merged)"
   ]
  },
  {
   "cell_type": "code",
   "execution_count": 6,
   "id": "49d523e3",
   "metadata": {
    "scrolled": false
   },
   "outputs": [
    {
     "data": {
      "text/plain": [
       "'04-2018'"
      ]
     },
     "execution_count": 6,
     "metadata": {},
     "output_type": "execute_result"
    }
   ],
   "source": [
    "train_merged[\"SplitTransactionDates\"].iloc[0][0].strip(\"''\")"
   ]
  },
  {
   "cell_type": "code",
   "execution_count": 7,
   "id": "f670e126",
   "metadata": {},
   "outputs": [],
   "source": [
    "# from datetime import date, timedelta\n",
    "# from datetime import datetime\n",
    "\n",
    "# d = [datetime.strptime(train_merged[\"SplitTransactionDates\"][0][i].replace(\"'\", \"\").strip(), \"%m-%Y\") for i in range(len(train_merged[\"SplitTransactionDates\"][0]))]\n",
    "# date_set = set(d[0] + timedelta(x) for x in range(int(d[-1] - d[0]).days/30.0))\n",
    "# missing = sorted(date_set - set(d))\n",
    "# print(missing)"
   ]
  },
  {
   "cell_type": "code",
   "execution_count": 8,
   "id": "1af13461",
   "metadata": {},
   "outputs": [],
   "source": [
    "# pd.date_range(start='2013-01', end='2018-05' ).difference(dates_list = [datetime.strptime(date.strip(\"''\").strip(), '%m-%Y').date() for date in train_merged.SplitTransactionDates[0]])"
   ]
  },
  {
   "cell_type": "markdown",
   "id": "354d1083",
   "metadata": {},
   "source": [
    "### Back Payment Features"
   ]
  },
  {
   "cell_type": "code",
   "execution_count": 9,
   "id": "a47c2f7b",
   "metadata": {},
   "outputs": [],
   "source": [
    "# Add Back Payment Features\n",
    "\n",
    "\n",
    "def add_back_feature(df, n=1):\n",
    "    df[f\"b{n}\"] = df.apply(lambda row: back_feature(row[\"SplitPaymentsHistory\"], n), axis=1)\n",
    "    return df\n",
    "\n",
    "train_merged = add_back_feature(train_merged, 1)\n",
    "train_merged = add_back_feature(train_merged, 2)\n",
    "train_merged = add_back_feature(train_merged, 3)\n",
    "train_merged = add_back_feature(train_merged, 4)\n",
    "train_merged = add_back_feature(train_merged, 5)"
   ]
  },
  {
   "cell_type": "code",
   "execution_count": 10,
   "id": "d1748905",
   "metadata": {},
   "outputs": [
    {
     "data": {
      "text/plain": [
       "0        2021-05-26 17:14:45\n",
       "1        2021-05-26 16:54:53\n",
       "2        2021-01-25 18:46:20\n",
       "3        2018-12-20 16:50:39\n",
       "4        2021-05-12 14:50:01\n",
       "                ...         \n",
       "28002    2019-10-11 12:37:41\n",
       "28003    2021-03-13 14:23:22\n",
       "28004    2021-03-28 16:01:16\n",
       "28005    2019-03-20 16:38:09\n",
       "28006    2018-12-09 12:40:57\n",
       "Name: LastPaymentDate, Length: 28007, dtype: object"
      ]
     },
     "execution_count": 10,
     "metadata": {},
     "output_type": "execute_result"
    }
   ],
   "source": [
    "train_merged.LastPaymentDate"
   ]
  },
  {
   "cell_type": "markdown",
   "id": "47b99c33",
   "metadata": {},
   "source": [
    "### Date Related Features\n",
    "\n",
    "TODO: \n",
    "1. Skipped payments and duration of skipping payments\n",
    "2. Check for custom seasonality (Weather changes EDA)"
   ]
  },
  {
   "cell_type": "markdown",
   "id": "ac33807a",
   "metadata": {},
   "source": [
    "### Backward Feature elimination\n",
    "\n",
    "1. Take 50% of the data and build the model"
   ]
  },
  {
   "cell_type": "code",
   "execution_count": 11,
   "id": "b5015704",
   "metadata": {},
   "outputs": [],
   "source": [
    "train_merged[\"RegistrationDateParsed\"] = pd.to_datetime(train_merged[\"RegistrationDate\"], infer_datetime_format=True)\n",
    "train_merged[\"ExpectedTermDateParsed\"] = pd.to_datetime(train_merged[\"ExpectedTermDate\"], infer_datetime_format=True)\n",
    "train_merged[\"FirstPaymentDateParsed\"] = pd.to_datetime(train_merged[\"FirstPaymentDate\"], infer_datetime_format=True)\n",
    "train_merged[\"LastPaymentDateParsed\"] = pd.to_datetime(train_merged[\"LastPaymentDate\"], infer_datetime_format=True)\n",
    "\n",
    "train_merged[\"RegistrationDate\"] = pd.to_datetime(train_merged[\"RegistrationDate\"], infer_datetime_format=True).dt.date\n",
    "train_merged[\"ExpectedTermDate\"] = pd.to_datetime(train_merged[\"ExpectedTermDate\"], infer_datetime_format=True).dt.date\n",
    "train_merged[\"FirstPaymentDate\"] = pd.to_datetime(train_merged[\"FirstPaymentDate\"], infer_datetime_format=True).dt.date\n",
    "train_merged[\"LastPaymentDate\"] = pd.to_datetime(train_merged[\"LastPaymentDate\"], infer_datetime_format=True).dt.date"
   ]
  },
  {
   "cell_type": "code",
   "execution_count": 12,
   "id": "c386ce1a",
   "metadata": {
    "scrolled": true
   },
   "outputs": [],
   "source": [
    "train_merged[\"LastFirstDuration\"] = (train_merged.LastPaymentDate - train_merged.FirstPaymentDate).astype(\"timedelta64[M]\")\n",
    "train_merged[\"ExpectedFirstDuration\"] = (train_merged.ExpectedTermDate - train_merged.FirstPaymentDate).astype(\"timedelta64[M]\")\n",
    "train_merged[\"LastRegistrationDuration\"] = (train_merged.LastPaymentDate - train_merged.RegistrationDate).astype(\"timedelta64[M]\")"
   ]
  },
  {
   "cell_type": "code",
   "execution_count": 13,
   "id": "139edcb8",
   "metadata": {},
   "outputs": [],
   "source": [
    "# Months\n",
    "train_merged[\"FirstPaymentMonth\"] = train_merged[\"FirstPaymentDateParsed\"].dt.month\n",
    "train_merged[\"LastPaymentMonth\"] = train_merged[\"LastPaymentDateParsed\"].dt.month\n",
    "train_merged[\"RegistrationMonth\"] = train_merged[\"RegistrationDateParsed\"].dt.month\n",
    "\n",
    "# Sine\n",
    "train_merged[\"FirstPaymentMonthSin\"] = np.sin((train_merged.FirstPaymentMonth-1)*(2.*np.pi/12))\n",
    "train_merged[\"LastPaymentMonthSin\"] = np.sin((train_merged.LastPaymentMonth-1)*(2.*np.pi/12))\n",
    "train_merged[\"RegistrationMonthSin\"] = np.sin((train_merged.RegistrationMonth-1)*(2.*np.pi/12))\n",
    "\n",
    "# Cos\n",
    "train_merged[\"FirstPaymentMonthCos\"] = np.cos((train_merged.FirstPaymentMonth-1)*(2.*np.pi/12))\n",
    "train_merged[\"LastPaymentMonthCos\"] = np.cos((train_merged.LastPaymentMonth-1)*(2.*np.pi/12))\n",
    "train_merged[\"RegistrationMonthCos\"] = np.cos((train_merged.RegistrationMonth-1)*(2.*np.pi/12))"
   ]
  },
  {
   "cell_type": "code",
   "execution_count": 14,
   "id": "e516789a",
   "metadata": {
    "scrolled": false
   },
   "outputs": [],
   "source": [
    "train_merged.drop([\"RegistrationDateParsed\", \"ExpectedTermDateParsed\", \"FirstPaymentDateParsed\", \"LastPaymentDateParsed\"], axis=1, inplace=True)"
   ]
  },
  {
   "cell_type": "markdown",
   "id": "ee60a466",
   "metadata": {},
   "source": [
    "### We can ignore UpSell since it represents only 2.7% of the rows"
   ]
  },
  {
   "cell_type": "code",
   "execution_count": 15,
   "id": "a57809d8",
   "metadata": {},
   "outputs": [
    {
     "data": {
      "text/plain": [
       "2.6493376655836043"
      ]
     },
     "execution_count": 15,
     "metadata": {},
     "output_type": "execute_result"
    }
   ],
   "source": [
    "train_merged.UpsellDate.count() / train_merged.shape[0] * 100"
   ]
  },
  {
   "cell_type": "markdown",
   "id": "51654877",
   "metadata": {},
   "source": [
    "### Bar Plots\n",
    "\n",
    "1. Month by Payments\n",
    "2. Month by Number of Payments\n",
    "3. Month by "
   ]
  },
  {
   "cell_type": "code",
   "execution_count": 16,
   "id": "7c8194cf",
   "metadata": {},
   "outputs": [
    {
     "data": {
      "text/plain": [
       "count    28007.000000\n",
       "mean        16.262363\n",
       "std          9.248264\n",
       "min          5.000000\n",
       "25%          8.000000\n",
       "50%         14.000000\n",
       "75%         23.000000\n",
       "max         52.000000\n",
       "Name: nb_payments, dtype: float64"
      ]
     },
     "execution_count": 16,
     "metadata": {},
     "output_type": "execute_result"
    }
   ],
   "source": [
    "train_merged.nb_payments.describe()"
   ]
  },
  {
   "cell_type": "markdown",
   "id": "25e8073d",
   "metadata": {},
   "source": [
    "### Drop irrelevant columns"
   ]
  },
  {
   "cell_type": "code",
   "execution_count": 17,
   "id": "789ccc65",
   "metadata": {},
   "outputs": [],
   "source": [
    "def drop_cols(df):\n",
    "    df.drop(\n",
    "        [\n",
    "            \"ID\",\n",
    "            \"UpsellDate\",\n",
    "            \"PaymentMethod\",\n",
    "            \"TransactionDates\",\n",
    "            \"PaymentsHistory\",\n",
    "            \"SupplierName\",\n",
    "            \"Town\"\n",
    "        ],\n",
    "        inplace=True,\n",
    "        axis=1\n",
    "    )\n",
    "drop_cols(train_merged)"
   ]
  },
  {
   "cell_type": "code",
   "execution_count": 18,
   "id": "53cdf99b",
   "metadata": {
    "scrolled": false
   },
   "outputs": [
    {
     "data": {
      "text/html": [
       "<div>\n",
       "<style scoped>\n",
       "    .dataframe tbody tr th:only-of-type {\n",
       "        vertical-align: middle;\n",
       "    }\n",
       "\n",
       "    .dataframe tbody tr th {\n",
       "        vertical-align: top;\n",
       "    }\n",
       "\n",
       "    .dataframe thead th {\n",
       "        text-align: right;\n",
       "    }\n",
       "</style>\n",
       "<table border=\"1\" class=\"dataframe\">\n",
       "  <thead>\n",
       "    <tr style=\"text-align: right;\">\n",
       "      <th></th>\n",
       "      <th>RegistrationDate</th>\n",
       "      <th>Deposit</th>\n",
       "      <th>AccessoryRate</th>\n",
       "      <th>rateTypeEntity</th>\n",
       "      <th>RatePerUnit</th>\n",
       "      <th>DaysOnDeposit</th>\n",
       "      <th>MainApplicantGender</th>\n",
       "      <th>Age</th>\n",
       "      <th>Region</th>\n",
       "      <th>Occupation</th>\n",
       "      <th>...</th>\n",
       "      <th>LastRegistrationDuration</th>\n",
       "      <th>FirstPaymentMonth</th>\n",
       "      <th>LastPaymentMonth</th>\n",
       "      <th>RegistrationMonth</th>\n",
       "      <th>FirstPaymentMonthSin</th>\n",
       "      <th>LastPaymentMonthSin</th>\n",
       "      <th>RegistrationMonthSin</th>\n",
       "      <th>FirstPaymentMonthCos</th>\n",
       "      <th>LastPaymentMonthCos</th>\n",
       "      <th>RegistrationMonthCos</th>\n",
       "    </tr>\n",
       "  </thead>\n",
       "  <tbody>\n",
       "    <tr>\n",
       "      <th>0</th>\n",
       "      <td>2018-04-23</td>\n",
       "      <td>2500</td>\n",
       "      <td>0.0</td>\n",
       "      <td>DAILY</td>\n",
       "      <td>55</td>\n",
       "      <td>3</td>\n",
       "      <td>Male</td>\n",
       "      <td>NaN</td>\n",
       "      <td>Coast Region</td>\n",
       "      <td>Teacher</td>\n",
       "      <td>...</td>\n",
       "      <td>37.0</td>\n",
       "      <td>4</td>\n",
       "      <td>5</td>\n",
       "      <td>4</td>\n",
       "      <td>1.000000</td>\n",
       "      <td>0.866025</td>\n",
       "      <td>1.000000</td>\n",
       "      <td>6.123234e-17</td>\n",
       "      <td>-0.500000</td>\n",
       "      <td>6.123234e-17</td>\n",
       "    </tr>\n",
       "    <tr>\n",
       "      <th>1</th>\n",
       "      <td>2018-04-17</td>\n",
       "      <td>2500</td>\n",
       "      <td>0.0</td>\n",
       "      <td>DAILY</td>\n",
       "      <td>55</td>\n",
       "      <td>3</td>\n",
       "      <td>Male</td>\n",
       "      <td>26.0</td>\n",
       "      <td>South Rift</td>\n",
       "      <td>Farmer</td>\n",
       "      <td>...</td>\n",
       "      <td>37.0</td>\n",
       "      <td>4</td>\n",
       "      <td>5</td>\n",
       "      <td>4</td>\n",
       "      <td>1.000000</td>\n",
       "      <td>0.866025</td>\n",
       "      <td>1.000000</td>\n",
       "      <td>6.123234e-17</td>\n",
       "      <td>-0.500000</td>\n",
       "      <td>6.123234e-17</td>\n",
       "    </tr>\n",
       "    <tr>\n",
       "      <th>2</th>\n",
       "      <td>2020-02-18</td>\n",
       "      <td>2400</td>\n",
       "      <td>0.0</td>\n",
       "      <td>DAILY</td>\n",
       "      <td>50</td>\n",
       "      <td>3</td>\n",
       "      <td>Male</td>\n",
       "      <td>21.0</td>\n",
       "      <td>Mount Kenya Region</td>\n",
       "      <td>Business</td>\n",
       "      <td>...</td>\n",
       "      <td>11.0</td>\n",
       "      <td>2</td>\n",
       "      <td>1</td>\n",
       "      <td>2</td>\n",
       "      <td>0.500000</td>\n",
       "      <td>0.000000</td>\n",
       "      <td>0.500000</td>\n",
       "      <td>8.660254e-01</td>\n",
       "      <td>1.000000</td>\n",
       "      <td>8.660254e-01</td>\n",
       "    </tr>\n",
       "    <tr>\n",
       "      <th>3</th>\n",
       "      <td>2017-09-14</td>\n",
       "      <td>2000</td>\n",
       "      <td>0.0</td>\n",
       "      <td>DAILY</td>\n",
       "      <td>40</td>\n",
       "      <td>7</td>\n",
       "      <td>Female</td>\n",
       "      <td>26.0</td>\n",
       "      <td>Mount Kenya Region</td>\n",
       "      <td>Farmer</td>\n",
       "      <td>...</td>\n",
       "      <td>15.0</td>\n",
       "      <td>9</td>\n",
       "      <td>12</td>\n",
       "      <td>9</td>\n",
       "      <td>-0.866025</td>\n",
       "      <td>-0.500000</td>\n",
       "      <td>-0.866025</td>\n",
       "      <td>-5.000000e-01</td>\n",
       "      <td>0.866025</td>\n",
       "      <td>-5.000000e-01</td>\n",
       "    </tr>\n",
       "    <tr>\n",
       "      <th>4</th>\n",
       "      <td>2017-09-06</td>\n",
       "      <td>2000</td>\n",
       "      <td>0.0</td>\n",
       "      <td>DAILY</td>\n",
       "      <td>40</td>\n",
       "      <td>7</td>\n",
       "      <td>Male</td>\n",
       "      <td>27.0</td>\n",
       "      <td>North Rift</td>\n",
       "      <td>Farmer</td>\n",
       "      <td>...</td>\n",
       "      <td>44.0</td>\n",
       "      <td>9</td>\n",
       "      <td>5</td>\n",
       "      <td>9</td>\n",
       "      <td>-0.866025</td>\n",
       "      <td>0.866025</td>\n",
       "      <td>-0.866025</td>\n",
       "      <td>-5.000000e-01</td>\n",
       "      <td>-0.500000</td>\n",
       "      <td>-5.000000e-01</td>\n",
       "    </tr>\n",
       "  </tbody>\n",
       "</table>\n",
       "<p>5 rows × 48 columns</p>\n",
       "</div>"
      ],
      "text/plain": [
       "  RegistrationDate  Deposit  AccessoryRate rateTypeEntity  RatePerUnit  \\\n",
       "0       2018-04-23     2500            0.0          DAILY           55   \n",
       "1       2018-04-17     2500            0.0          DAILY           55   \n",
       "2       2020-02-18     2400            0.0          DAILY           50   \n",
       "3       2017-09-14     2000            0.0          DAILY           40   \n",
       "4       2017-09-06     2000            0.0          DAILY           40   \n",
       "\n",
       "   DaysOnDeposit MainApplicantGender   Age              Region Occupation  \\\n",
       "0              3                Male   NaN        Coast Region    Teacher   \n",
       "1              3                Male  26.0          South Rift     Farmer   \n",
       "2              3                Male  21.0  Mount Kenya Region   Business   \n",
       "3              7              Female  26.0  Mount Kenya Region     Farmer   \n",
       "4              7                Male  27.0          North Rift     Farmer   \n",
       "\n",
       "   ...  LastRegistrationDuration  FirstPaymentMonth LastPaymentMonth  \\\n",
       "0  ...                      37.0                  4                5   \n",
       "1  ...                      37.0                  4                5   \n",
       "2  ...                      11.0                  2                1   \n",
       "3  ...                      15.0                  9               12   \n",
       "4  ...                      44.0                  9                5   \n",
       "\n",
       "  RegistrationMonth FirstPaymentMonthSin  LastPaymentMonthSin  \\\n",
       "0                 4             1.000000             0.866025   \n",
       "1                 4             1.000000             0.866025   \n",
       "2                 2             0.500000             0.000000   \n",
       "3                 9            -0.866025            -0.500000   \n",
       "4                 9            -0.866025             0.866025   \n",
       "\n",
       "   RegistrationMonthSin  FirstPaymentMonthCos  LastPaymentMonthCos  \\\n",
       "0              1.000000          6.123234e-17            -0.500000   \n",
       "1              1.000000          6.123234e-17            -0.500000   \n",
       "2              0.500000          8.660254e-01             1.000000   \n",
       "3             -0.866025         -5.000000e-01             0.866025   \n",
       "4             -0.866025         -5.000000e-01            -0.500000   \n",
       "\n",
       "   RegistrationMonthCos  \n",
       "0          6.123234e-17  \n",
       "1          6.123234e-17  \n",
       "2          8.660254e-01  \n",
       "3         -5.000000e-01  \n",
       "4         -5.000000e-01  \n",
       "\n",
       "[5 rows x 48 columns]"
      ]
     },
     "execution_count": 18,
     "metadata": {},
     "output_type": "execute_result"
    }
   ],
   "source": [
    "train_merged.head()"
   ]
  },
  {
   "cell_type": "markdown",
   "id": "d05884d0",
   "metadata": {},
   "source": [
    "### Feature Encoding"
   ]
  },
  {
   "cell_type": "code",
   "execution_count": 19,
   "id": "400d685a",
   "metadata": {},
   "outputs": [],
   "source": [
    "# OHE\n",
    "\n",
    "def encode_and_bind(df, feature_name):\n",
    "    dummies = pd.get_dummies(df[[feature_name]])\n",
    "    res = pd.concat([df, dummies], axis=1)\n",
    "    res = res.drop([feature_name], axis=1)\n",
    "    return(res)\n",
    "\n",
    "for feature in [\"MainApplicantGender\", \"Region\", \"Occupation\", \"rateTypeEntity\"]:\n",
    "    train_merged = encode_and_bind(train_merged, feature)"
   ]
  },
  {
   "cell_type": "code",
   "execution_count": 20,
   "id": "b00ceb28",
   "metadata": {
    "scrolled": false
   },
   "outputs": [
    {
     "data": {
      "text/html": [
       "<div>\n",
       "<style scoped>\n",
       "    .dataframe tbody tr th:only-of-type {\n",
       "        vertical-align: middle;\n",
       "    }\n",
       "\n",
       "    .dataframe tbody tr th {\n",
       "        vertical-align: top;\n",
       "    }\n",
       "\n",
       "    .dataframe thead th {\n",
       "        text-align: right;\n",
       "    }\n",
       "</style>\n",
       "<table border=\"1\" class=\"dataframe\">\n",
       "  <thead>\n",
       "    <tr style=\"text-align: right;\">\n",
       "      <th></th>\n",
       "      <th>RegistrationDate</th>\n",
       "      <th>Deposit</th>\n",
       "      <th>AccessoryRate</th>\n",
       "      <th>RatePerUnit</th>\n",
       "      <th>DaysOnDeposit</th>\n",
       "      <th>Age</th>\n",
       "      <th>Term</th>\n",
       "      <th>TotalContractValue</th>\n",
       "      <th>ExpectedTermDate</th>\n",
       "      <th>FirstPaymentDate</th>\n",
       "      <th>...</th>\n",
       "      <th>Occupation_Business</th>\n",
       "      <th>Occupation_Driver/Motorbike Rider</th>\n",
       "      <th>Occupation_Farmer</th>\n",
       "      <th>Occupation_Government Employee</th>\n",
       "      <th>Occupation_Labourer</th>\n",
       "      <th>Occupation_Other</th>\n",
       "      <th>Occupation_Teacher</th>\n",
       "      <th>rateTypeEntity_DAILY</th>\n",
       "      <th>rateTypeEntity_MONTHLY</th>\n",
       "      <th>rateTypeEntity_WEEKLY</th>\n",
       "    </tr>\n",
       "  </thead>\n",
       "  <tbody>\n",
       "    <tr>\n",
       "      <th>0</th>\n",
       "      <td>2018-04-23</td>\n",
       "      <td>2500</td>\n",
       "      <td>0.0</td>\n",
       "      <td>55</td>\n",
       "      <td>3</td>\n",
       "      <td>NaN</td>\n",
       "      <td>556</td>\n",
       "      <td>33080.0</td>\n",
       "      <td>2019-10-31</td>\n",
       "      <td>2018-04-23</td>\n",
       "      <td>...</td>\n",
       "      <td>0</td>\n",
       "      <td>0</td>\n",
       "      <td>0</td>\n",
       "      <td>0</td>\n",
       "      <td>0</td>\n",
       "      <td>0</td>\n",
       "      <td>1</td>\n",
       "      <td>1</td>\n",
       "      <td>0</td>\n",
       "      <td>0</td>\n",
       "    </tr>\n",
       "    <tr>\n",
       "      <th>1</th>\n",
       "      <td>2018-04-17</td>\n",
       "      <td>2500</td>\n",
       "      <td>0.0</td>\n",
       "      <td>55</td>\n",
       "      <td>3</td>\n",
       "      <td>26.0</td>\n",
       "      <td>556</td>\n",
       "      <td>33080.0</td>\n",
       "      <td>2019-10-25</td>\n",
       "      <td>2018-04-17</td>\n",
       "      <td>...</td>\n",
       "      <td>0</td>\n",
       "      <td>0</td>\n",
       "      <td>1</td>\n",
       "      <td>0</td>\n",
       "      <td>0</td>\n",
       "      <td>0</td>\n",
       "      <td>0</td>\n",
       "      <td>1</td>\n",
       "      <td>0</td>\n",
       "      <td>0</td>\n",
       "    </tr>\n",
       "    <tr>\n",
       "      <th>2</th>\n",
       "      <td>2020-02-18</td>\n",
       "      <td>2400</td>\n",
       "      <td>0.0</td>\n",
       "      <td>50</td>\n",
       "      <td>3</td>\n",
       "      <td>21.0</td>\n",
       "      <td>240</td>\n",
       "      <td>14400.0</td>\n",
       "      <td>2020-10-15</td>\n",
       "      <td>2020-02-18</td>\n",
       "      <td>...</td>\n",
       "      <td>1</td>\n",
       "      <td>0</td>\n",
       "      <td>0</td>\n",
       "      <td>0</td>\n",
       "      <td>0</td>\n",
       "      <td>0</td>\n",
       "      <td>0</td>\n",
       "      <td>1</td>\n",
       "      <td>0</td>\n",
       "      <td>0</td>\n",
       "    </tr>\n",
       "    <tr>\n",
       "      <th>3</th>\n",
       "      <td>2017-09-14</td>\n",
       "      <td>2000</td>\n",
       "      <td>0.0</td>\n",
       "      <td>40</td>\n",
       "      <td>7</td>\n",
       "      <td>26.0</td>\n",
       "      <td>364</td>\n",
       "      <td>16560.0</td>\n",
       "      <td>2018-09-13</td>\n",
       "      <td>2017-09-14</td>\n",
       "      <td>...</td>\n",
       "      <td>0</td>\n",
       "      <td>0</td>\n",
       "      <td>1</td>\n",
       "      <td>0</td>\n",
       "      <td>0</td>\n",
       "      <td>0</td>\n",
       "      <td>0</td>\n",
       "      <td>1</td>\n",
       "      <td>0</td>\n",
       "      <td>0</td>\n",
       "    </tr>\n",
       "    <tr>\n",
       "      <th>4</th>\n",
       "      <td>2017-09-06</td>\n",
       "      <td>2000</td>\n",
       "      <td>0.0</td>\n",
       "      <td>40</td>\n",
       "      <td>7</td>\n",
       "      <td>27.0</td>\n",
       "      <td>364</td>\n",
       "      <td>16560.0</td>\n",
       "      <td>2018-09-05</td>\n",
       "      <td>2017-09-06</td>\n",
       "      <td>...</td>\n",
       "      <td>0</td>\n",
       "      <td>0</td>\n",
       "      <td>1</td>\n",
       "      <td>0</td>\n",
       "      <td>0</td>\n",
       "      <td>0</td>\n",
       "      <td>0</td>\n",
       "      <td>1</td>\n",
       "      <td>0</td>\n",
       "      <td>0</td>\n",
       "    </tr>\n",
       "  </tbody>\n",
       "</table>\n",
       "<p>5 rows × 63 columns</p>\n",
       "</div>"
      ],
      "text/plain": [
       "  RegistrationDate  Deposit  AccessoryRate  RatePerUnit  DaysOnDeposit   Age  \\\n",
       "0       2018-04-23     2500            0.0           55              3   NaN   \n",
       "1       2018-04-17     2500            0.0           55              3  26.0   \n",
       "2       2020-02-18     2400            0.0           50              3  21.0   \n",
       "3       2017-09-14     2000            0.0           40              7  26.0   \n",
       "4       2017-09-06     2000            0.0           40              7  27.0   \n",
       "\n",
       "   Term  TotalContractValue ExpectedTermDate FirstPaymentDate  ...  \\\n",
       "0   556             33080.0       2019-10-31       2018-04-23  ...   \n",
       "1   556             33080.0       2019-10-25       2018-04-17  ...   \n",
       "2   240             14400.0       2020-10-15       2020-02-18  ...   \n",
       "3   364             16560.0       2018-09-13       2017-09-14  ...   \n",
       "4   364             16560.0       2018-09-05       2017-09-06  ...   \n",
       "\n",
       "  Occupation_Business  Occupation_Driver/Motorbike Rider  Occupation_Farmer  \\\n",
       "0                   0                                  0                  0   \n",
       "1                   0                                  0                  1   \n",
       "2                   1                                  0                  0   \n",
       "3                   0                                  0                  1   \n",
       "4                   0                                  0                  1   \n",
       "\n",
       "   Occupation_Government Employee  Occupation_Labourer  Occupation_Other  \\\n",
       "0                               0                    0                 0   \n",
       "1                               0                    0                 0   \n",
       "2                               0                    0                 0   \n",
       "3                               0                    0                 0   \n",
       "4                               0                    0                 0   \n",
       "\n",
       "   Occupation_Teacher rateTypeEntity_DAILY rateTypeEntity_MONTHLY  \\\n",
       "0                   1                    1                      0   \n",
       "1                   0                    1                      0   \n",
       "2                   0                    1                      0   \n",
       "3                   0                    1                      0   \n",
       "4                   0                    1                      0   \n",
       "\n",
       "   rateTypeEntity_WEEKLY  \n",
       "0                      0  \n",
       "1                      0  \n",
       "2                      0  \n",
       "3                      0  \n",
       "4                      0  \n",
       "\n",
       "[5 rows x 63 columns]"
      ]
     },
     "execution_count": 20,
     "metadata": {},
     "output_type": "execute_result"
    }
   ],
   "source": [
    "train_merged.head()"
   ]
  },
  {
   "cell_type": "code",
   "execution_count": 21,
   "id": "0f9059e9",
   "metadata": {},
   "outputs": [],
   "source": [
    "train_merged.drop([\"RegistrationDate\", \"ExpectedTermDate\", \"FirstPaymentDate\", \"LastPaymentDate\", \"SplitPaymentsHistory\", \"SplitTransactionDates\", \"m2\", \"m3\", \"m4\", \"m5\", \"m6\"], inplace=True, axis=1)"
   ]
  },
  {
   "cell_type": "markdown",
   "id": "8cb66d10",
   "metadata": {},
   "source": [
    "\n",
    "### Data Leakage here. Will be handled later."
   ]
  },
  {
   "cell_type": "code",
   "execution_count": 25,
   "id": "57d91d5c",
   "metadata": {},
   "outputs": [
    {
     "data": {
      "text/plain": [
       "<AxesSubplot:>"
      ]
     },
     "execution_count": 25,
     "metadata": {},
     "output_type": "execute_result"
    },
    {
     "data": {
      "image/png": "[encoded data removed]",
      "text/plain": [
       "<Figure size 432x288 with 1 Axes>"
      ]
     },
     "metadata": {
      "needs_background": "light"
     },
     "output_type": "display_data"
    }
   ],
   "source": [
    "# train_merged.Age.plot()"
   ]
  },
  {
   "cell_type": "code",
   "execution_count": 22,
   "id": "b1afae1b",
   "metadata": {
    "scrolled": true
   },
   "outputs": [],
   "source": [
    "train_merged.Age = train_merged.Age.fillna(train_merged.Age.mean())"
   ]
  },
  {
   "cell_type": "code",
   "execution_count": 23,
   "id": "2464ae72",
   "metadata": {},
   "outputs": [
    {
     "data": {
      "text/plain": [
       "(array([ 255.65474,  917.0565 ,  297.1074 , ..., 1207.4072 ,  929.06165,\n",
       "         406.2758 ], dtype=float32),\n",
       " 0.979776760730671,\n",
       " 185524.68208459264,\n",
       " array([0.0247818 , 0.07518963, 0.01137567, 0.00420607, 0.05192063,\n",
       "        0.01716595, 0.06637507, 0.05616232, 0.03606681, 0.02436592,\n",
       "        0.04456397, 0.05648439, 0.03724673, 0.00985612, 0.00804755,\n",
       "        0.21999808, 0.04654755, 0.02861566, 0.0069202 , 0.00862808,\n",
       "        0.0161342 , 0.        , 0.00592132, 0.00874534, 0.00607938,\n",
       "        0.        , 0.00553371, 0.01408456, 0.        , 0.00567654,\n",
       "        0.01156513, 0.        , 0.0049327 , 0.        , 0.00676817,\n",
       "        0.00741548, 0.00519214, 0.00676522, 0.00519089, 0.00813076,\n",
       "        0.00320479, 0.00365307, 0.00754813, 0.00317403, 0.0079423 ,\n",
       "        0.00548868, 0.00413712, 0.01049977, 0.        , 0.        ,\n",
       "        0.00169833], dtype=float32),\n",
       " 430.7257620395983)"
      ]
     },
     "execution_count": 23,
     "metadata": {},
     "output_type": "execute_result"
    }
   ],
   "source": [
    "from sklearn.metrics import mean_absolute_percentage_error\n",
    "from sklearn.metrics import mean_squared_error\n",
    "\n",
    "np.random.seed(0)\n",
    "def predict_model(train_array, target):\n",
    "    model = xgb.XGBRegressor(use_label_encoder=False,\n",
    "                             verbosity=0,\n",
    "                             objective=\"reg:squarederror\",\n",
    "                             reg_lambda=0,\n",
    "                             reg_alpha=50)\n",
    "    for i in range(1, 11):\n",
    "        X_train, X_test, y_train, y_test = train_test_split(train_array, target, test_size=0.20)\n",
    "        model.fit(X_train, y_train)\n",
    "\n",
    "    y_pred = model.predict(X_test)\n",
    "    feature_importance = model.feature_importances_\n",
    "    mape = mean_absolute_percentage_error(y_test, y_pred)\n",
    "    mse = mean_squared_error(y_test, y_pred)\n",
    "    rmse = pow(mse, 0.5)\n",
    "\n",
    "    return y_pred, mape, mse, feature_importance, rmse\n",
    "\n",
    "predict_model(train_merged.drop([\"m1\"], axis=1), train_merged[\"m1\"])"
   ]
  },
  {
   "cell_type": "markdown",
   "id": "35eef50d",
   "metadata": {},
   "source": [
    "### Outlier Handling\n",
    "### Advance Modelling\n",
    "### EDA for adding time features\n",
    "### Scaling & Normalization"
   ]
  }
 ],
 "metadata": {
  "kernelspec": {
   "display_name": "zindi_payg",
   "language": "python",
   "name": "zindi_payg"
  },
  "language_info": {
   "codemirror_mode": {
    "name": "ipython",
    "version": 3
   },
   "file_extension": ".py",
   "mimetype": "text/x-python",
   "name": "python",
   "nbconvert_exporter": "python",
   "pygments_lexer": "ipython3",
   "version": "3.9.5"
  }
 },
 "nbformat": 4,
 "nbformat_minor": 5
}
